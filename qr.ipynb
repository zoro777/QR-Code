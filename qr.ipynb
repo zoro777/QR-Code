{
 "cells": [
  {
   "cell_type": "code",
   "execution_count": 8,
   "metadata": {},
   "outputs": [
    {
     "name": "stdout",
     "output_type": "stream",
     "text": [
      "QR Code generated and saved as 'qrcode.png'\n"
     ]
    }
   ],
   "source": [
    "import qrcode\n",
    "\n",
    "data = \"https://www.google.com\"\n",
    "\n",
    "\n",
    "qr = qrcode.QRCode(\n",
    "    version=1,\n",
    "    error_correction=qrcode.constants.ERROR_CORRECT_L,\n",
    "    box_size=10,\n",
    "    border=4,\n",
    ")\n",
    "\n",
    "qr.add_data(data)\n",
    "qr.make(fit=True)\n",
    "img = qr.make_image(fill=\"black\", back_color=\"white\")\n",
    "\n",
    "\n",
    "img.save(\"qrcode.png\")\n",
    "img.show()\n",
    "\n",
    "print(\"QR Code generated and saved as 'qrcode.png'\")\n"
   ]
  },
  {
   "cell_type": "code",
   "execution_count": null,
   "metadata": {},
   "outputs": [],
   "source": []
  }
 ],
 "metadata": {
  "kernelspec": {
   "display_name": "Python 3",
   "language": "python",
   "name": "python3"
  },
  "language_info": {
   "codemirror_mode": {
    "name": "ipython",
    "version": 3
   },
   "file_extension": ".py",
   "mimetype": "text/x-python",
   "name": "python",
   "nbconvert_exporter": "python",
   "pygments_lexer": "ipython3",
   "version": "3.13.0"
  }
 },
 "nbformat": 4,
 "nbformat_minor": 2
}
